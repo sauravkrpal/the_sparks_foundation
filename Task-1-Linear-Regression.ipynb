{
 "cells": [
  {
   "cell_type": "markdown",
   "id": "6649e7b8",
   "metadata": {
    "papermill": {
     "duration": 0.006661,
     "end_time": "2024-08-08T13:14:01.493936",
     "exception": false,
     "start_time": "2024-08-08T13:14:01.487275",
     "status": "completed"
    },
    "tags": []
   },
   "source": [
    "#  Author : Saurav Kumar Pal\n",
    "# Task 1 : Prediction using Supervised Machine Learning\n",
    "\n",
    " #  GRIP @ The Sparks Foundation"
   ]
  },
  {
   "cell_type": "markdown",
   "id": "4895b89d",
   "metadata": {
    "papermill": {
     "duration": 0.006497,
     "end_time": "2024-08-08T13:14:01.507372",
     "exception": false,
     "start_time": "2024-08-08T13:14:01.500875",
     "status": "completed"
    },
    "tags": []
   },
   "source": [
    "> In this regression task I tried to predict the percentage of marks that a student is expected to score based upon the number of hours they studied.\n",
    "> \n",
    "> This is a simple linear regression task as it involves just two variables."
   ]
  },
  {
   "cell_type": "code",
   "execution_count": 1,
   "id": "4a5d5ae7",
   "metadata": {
    "execution": {
     "iopub.execute_input": "2024-08-08T13:14:01.521457Z",
     "iopub.status.busy": "2024-08-08T13:14:01.521029Z",
     "iopub.status.idle": "2024-08-08T13:14:01.533401Z",
     "shell.execute_reply": "2024-08-08T13:14:01.532116Z"
    },
    "papermill": {
     "duration": 0.022655,
     "end_time": "2024-08-08T13:14:01.536053",
     "exception": false,
     "start_time": "2024-08-08T13:14:01.513398",
     "status": "completed"
    },
    "tags": []
   },
   "outputs": [
    {
     "name": "stdout",
     "output_type": "stream",
     "text": [
      "['students-score']\n"
     ]
    }
   ],
   "source": [
    "import os\n",
    "arr = os.listdir('/kaggle/input')\n",
    "print(arr)"
   ]
  },
  {
   "cell_type": "markdown",
   "id": "a7742d48",
   "metadata": {
    "papermill": {
     "duration": 0.00597,
     "end_time": "2024-08-08T13:14:01.548388",
     "exception": false,
     "start_time": "2024-08-08T13:14:01.542418",
     "status": "completed"
    },
    "tags": []
   },
   "source": [
    "# Technical Stack : Sikit Learn, Numpy Array, Pandas, Matplotlib"
   ]
  },
  {
   "cell_type": "code",
   "execution_count": 2,
   "id": "ca031de4",
   "metadata": {
    "execution": {
     "iopub.execute_input": "2024-08-08T13:14:01.562639Z",
     "iopub.status.busy": "2024-08-08T13:14:01.561963Z",
     "iopub.status.idle": "2024-08-08T13:14:03.756254Z",
     "shell.execute_reply": "2024-08-08T13:14:03.754933Z"
    },
    "papermill": {
     "duration": 2.204346,
     "end_time": "2024-08-08T13:14:03.758985",
     "exception": false,
     "start_time": "2024-08-08T13:14:01.554639",
     "status": "completed"
    },
    "tags": []
   },
   "outputs": [],
   "source": [
    "# Importing the required libraries\n",
    "from sklearn.model_selection import train_test_split \n",
    "from sklearn.linear_model import LinearRegression\n",
    "import matplotlib.pyplot as plt\n",
    "import pandas as pd\n",
    "import numpy as np  "
   ]
  },
  {
   "cell_type": "markdown",
   "id": "6b8e1699",
   "metadata": {
    "papermill": {
     "duration": 0.005906,
     "end_time": "2024-08-08T13:14:03.771203",
     "exception": false,
     "start_time": "2024-08-08T13:14:03.765297",
     "status": "completed"
    },
    "tags": []
   },
   "source": [
    "# Step 1 - Reading the data from source"
   ]
  },
  {
   "cell_type": "code",
   "execution_count": 3,
   "id": "5e907a7f",
   "metadata": {
    "execution": {
     "iopub.execute_input": "2024-08-08T13:14:03.785862Z",
     "iopub.status.busy": "2024-08-08T13:14:03.784878Z",
     "iopub.status.idle": "2024-08-08T13:14:03.821917Z",
     "shell.execute_reply": "2024-08-08T13:14:03.820902Z"
    },
    "papermill": {
     "duration": 0.046644,
     "end_time": "2024-08-08T13:14:03.824070",
     "exception": false,
     "start_time": "2024-08-08T13:14:03.777426",
     "status": "completed"
    },
    "tags": []
   },
   "outputs": [
    {
     "name": "stdout",
     "output_type": "stream",
     "text": [
      "Data import successful\n"
     ]
    },
    {
     "data": {
      "text/html": [
       "<div>\n",
       "<style scoped>\n",
       "    .dataframe tbody tr th:only-of-type {\n",
       "        vertical-align: middle;\n",
       "    }\n",
       "\n",
       "    .dataframe tbody tr th {\n",
       "        vertical-align: top;\n",
       "    }\n",
       "\n",
       "    .dataframe thead th {\n",
       "        text-align: right;\n",
       "    }\n",
       "</style>\n",
       "<table border=\"1\" class=\"dataframe\">\n",
       "  <thead>\n",
       "    <tr style=\"text-align: right;\">\n",
       "      <th></th>\n",
       "      <th>Hours</th>\n",
       "      <th>Scores</th>\n",
       "    </tr>\n",
       "  </thead>\n",
       "  <tbody>\n",
       "    <tr>\n",
       "      <th>0</th>\n",
       "      <td>2.5</td>\n",
       "      <td>21</td>\n",
       "    </tr>\n",
       "    <tr>\n",
       "      <th>1</th>\n",
       "      <td>5.1</td>\n",
       "      <td>47</td>\n",
       "    </tr>\n",
       "    <tr>\n",
       "      <th>2</th>\n",
       "      <td>3.2</td>\n",
       "      <td>27</td>\n",
       "    </tr>\n",
       "    <tr>\n",
       "      <th>3</th>\n",
       "      <td>8.5</td>\n",
       "      <td>75</td>\n",
       "    </tr>\n",
       "    <tr>\n",
       "      <th>4</th>\n",
       "      <td>3.5</td>\n",
       "      <td>30</td>\n",
       "    </tr>\n",
       "    <tr>\n",
       "      <th>5</th>\n",
       "      <td>1.5</td>\n",
       "      <td>20</td>\n",
       "    </tr>\n",
       "    <tr>\n",
       "      <th>6</th>\n",
       "      <td>9.2</td>\n",
       "      <td>88</td>\n",
       "    </tr>\n",
       "    <tr>\n",
       "      <th>7</th>\n",
       "      <td>5.5</td>\n",
       "      <td>60</td>\n",
       "    </tr>\n",
       "    <tr>\n",
       "      <th>8</th>\n",
       "      <td>8.3</td>\n",
       "      <td>81</td>\n",
       "    </tr>\n",
       "    <tr>\n",
       "      <th>9</th>\n",
       "      <td>2.7</td>\n",
       "      <td>25</td>\n",
       "    </tr>\n",
       "  </tbody>\n",
       "</table>\n",
       "</div>"
      ],
      "text/plain": [
       "   Hours  Scores\n",
       "0    2.5      21\n",
       "1    5.1      47\n",
       "2    3.2      27\n",
       "3    8.5      75\n",
       "4    3.5      30\n",
       "5    1.5      20\n",
       "6    9.2      88\n",
       "7    5.5      60\n",
       "8    8.3      81\n",
       "9    2.7      25"
      ]
     },
     "execution_count": 3,
     "metadata": {},
     "output_type": "execute_result"
    }
   ],
   "source": [
    "# Reading data from remote link\n",
    "Dataset = r\"/kaggle/input/students-score/students-score.csv\"\n",
    "student_score = pd.read_csv(Dataset)\n",
    "print(\"Data import successful\")\n",
    "\n",
    "student_score.head(10)"
   ]
  },
  {
   "cell_type": "markdown",
   "id": "451e57f7",
   "metadata": {
    "papermill": {
     "duration": 0.006124,
     "end_time": "2024-08-08T13:14:03.836851",
     "exception": false,
     "start_time": "2024-08-08T13:14:03.830727",
     "status": "completed"
    },
    "tags": []
   },
   "source": [
    "# Step 2 - Input data Visualization"
   ]
  },
  {
   "cell_type": "code",
   "execution_count": 4,
   "id": "f3a08035",
   "metadata": {
    "execution": {
     "iopub.execute_input": "2024-08-08T13:14:03.852074Z",
     "iopub.status.busy": "2024-08-08T13:14:03.851052Z",
     "iopub.status.idle": "2024-08-08T13:14:04.263912Z",
     "shell.execute_reply": "2024-08-08T13:14:04.262766Z"
    },
    "papermill": {
     "duration": 0.422952,
     "end_time": "2024-08-08T13:14:04.266285",
     "exception": false,
     "start_time": "2024-08-08T13:14:03.843333",
     "status": "completed"
    },
    "tags": []
   },
   "outputs": [
    {
     "data": {
      "image/png": "[encoded data removed]",
      "text/plain": [
       "<Figure size 640x480 with 1 Axes>"
      ]
     },
     "metadata": {},
     "output_type": "display_data"
    }
   ],
   "source": [
    "# Plotting the distribution of scores\n",
    "student_score.plot(x='Hours', y='Scores', style='o')  \n",
    "plt.title('Hours vs Percentage')  \n",
    "plt.xlabel('Hours Studied')  \n",
    "plt.ylabel('Percentage Score')  \n",
    "plt.show()"
   ]
  },
  {
   "cell_type": "markdown",
   "id": "05570c1c",
   "metadata": {
    "papermill": {
     "duration": 0.007476,
     "end_time": "2024-08-08T13:14:04.280725",
     "exception": false,
     "start_time": "2024-08-08T13:14:04.273249",
     "status": "completed"
    },
    "tags": []
   },
   "source": [
    "From the graph we can safely assume a positive linear relation between the number of hours studied and percentage of score."
   ]
  },
  {
   "cell_type": "markdown",
   "id": "bec143ae",
   "metadata": {
    "papermill": {
     "duration": 0.006625,
     "end_time": "2024-08-08T13:14:04.294258",
     "exception": false,
     "start_time": "2024-08-08T13:14:04.287633",
     "status": "completed"
    },
    "tags": []
   },
   "source": [
    "# Step 3 - Data Preprocessing"
   ]
  },
  {
   "cell_type": "markdown",
   "id": "ede7fcc5",
   "metadata": {
    "papermill": {
     "duration": 0.006747,
     "end_time": "2024-08-08T13:14:04.307850",
     "exception": false,
     "start_time": "2024-08-08T13:14:04.301103",
     "status": "completed"
    },
    "tags": []
   },
   "source": [
    "This step involved division of data into \"attributes\" (inputs) and \"labels\" (outputs)."
   ]
  },
  {
   "cell_type": "code",
   "execution_count": 5,
   "id": "e52f1bb1",
   "metadata": {
    "execution": {
     "iopub.execute_input": "2024-08-08T13:14:04.323638Z",
     "iopub.status.busy": "2024-08-08T13:14:04.322788Z",
     "iopub.status.idle": "2024-08-08T13:14:04.330945Z",
     "shell.execute_reply": "2024-08-08T13:14:04.329823Z"
    },
    "papermill": {
     "duration": 0.018442,
     "end_time": "2024-08-08T13:14:04.333102",
     "exception": false,
     "start_time": "2024-08-08T13:14:04.314660",
     "status": "completed"
    },
    "tags": []
   },
   "outputs": [],
   "source": [
    "X = student_score.iloc[:, :-1].values  \n",
    "y = student_score.iloc[:, 1].values  "
   ]
  },
  {
   "cell_type": "markdown",
   "id": "80e2a57e",
   "metadata": {
    "papermill": {
     "duration": 0.006867,
     "end_time": "2024-08-08T13:14:04.346886",
     "exception": false,
     "start_time": "2024-08-08T13:14:04.340019",
     "status": "completed"
    },
    "tags": []
   },
   "source": [
    "# Step 4 - Model Training"
   ]
  },
  {
   "cell_type": "markdown",
   "id": "6ee26358",
   "metadata": {
    "papermill": {
     "duration": 0.006615,
     "end_time": "2024-08-08T13:14:04.360351",
     "exception": false,
     "start_time": "2024-08-08T13:14:04.353736",
     "status": "completed"
    },
    "tags": []
   },
   "source": [
    "Splitting the data into training and testing sets, and training the algorithm."
   ]
  },
  {
   "cell_type": "code",
   "execution_count": 6,
   "id": "1b8edd9a",
   "metadata": {
    "execution": {
     "iopub.execute_input": "2024-08-08T13:14:04.376611Z",
     "iopub.status.busy": "2024-08-08T13:14:04.375641Z",
     "iopub.status.idle": "2024-08-08T13:14:04.394969Z",
     "shell.execute_reply": "2024-08-08T13:14:04.393719Z"
    },
    "papermill": {
     "duration": 0.029827,
     "end_time": "2024-08-08T13:14:04.397129",
     "exception": false,
     "start_time": "2024-08-08T13:14:04.367302",
     "status": "completed"
    },
    "tags": []
   },
   "outputs": [
    {
     "name": "stdout",
     "output_type": "stream",
     "text": [
      "Training complete.\n"
     ]
    }
   ],
   "source": [
    "X_train, X_test, y_train, y_test = train_test_split(X, y, test_size=0.2, random_state=0) \n",
    "regressor = LinearRegression()  \n",
    "regressor.fit(X_train.reshape(-1,1), y_train) \n",
    "\n",
    "print(\"Training complete.\")"
   ]
  },
  {
   "cell_type": "markdown",
   "id": "acfd5076",
   "metadata": {
    "papermill": {
     "duration": 0.006651,
     "end_time": "2024-08-08T13:14:04.411039",
     "exception": false,
     "start_time": "2024-08-08T13:14:04.404388",
     "status": "completed"
    },
    "tags": []
   },
   "source": [
    "# Step 5 - Plotting the Line of regression"
   ]
  },
  {
   "cell_type": "markdown",
   "id": "5e7b8dd6",
   "metadata": {
    "papermill": {
     "duration": 0.006653,
     "end_time": "2024-08-08T13:14:04.424498",
     "exception": false,
     "start_time": "2024-08-08T13:14:04.417845",
     "status": "completed"
    },
    "tags": []
   },
   "source": [
    "Now since our model is trained now, its the time to visualize the best-fit line of regression."
   ]
  },
  {
   "cell_type": "code",
   "execution_count": 7,
   "id": "bce1dac2",
   "metadata": {
    "execution": {
     "iopub.execute_input": "2024-08-08T13:14:04.439887Z",
     "iopub.status.busy": "2024-08-08T13:14:04.439472Z",
     "iopub.status.idle": "2024-08-08T13:14:04.627656Z",
     "shell.execute_reply": "2024-08-08T13:14:04.626461Z"
    },
    "papermill": {
     "duration": 0.198692,
     "end_time": "2024-08-08T13:14:04.630077",
     "exception": false,
     "start_time": "2024-08-08T13:14:04.431385",
     "status": "completed"
    },
    "tags": []
   },
   "outputs": [
    {
     "data": {
      "image/png": "[encoded data removed]",
      "text/plain": [
       "<Figure size 640x480 with 1 Axes>"
      ]
     },
     "metadata": {},
     "output_type": "display_data"
    }
   ],
   "source": [
    "# Plotting the regression line\n",
    "line = regressor.coef_*X+regressor.intercept_\n",
    "\n",
    "# Plotting for the test data\n",
    "plt.scatter(X, y)\n",
    "plt.plot(X, line,color='red');\n",
    "plt.show()"
   ]
  },
  {
   "cell_type": "markdown",
   "id": "4f97d08a",
   "metadata": {
    "papermill": {
     "duration": 0.007323,
     "end_time": "2024-08-08T13:14:04.644752",
     "exception": false,
     "start_time": "2024-08-08T13:14:04.637429",
     "status": "completed"
    },
    "tags": []
   },
   "source": [
    "# Step 6 - Making Predictions"
   ]
  },
  {
   "cell_type": "markdown",
   "id": "f313446a",
   "metadata": {
    "papermill": {
     "duration": 0.007068,
     "end_time": "2024-08-08T13:14:04.659066",
     "exception": false,
     "start_time": "2024-08-08T13:14:04.651998",
     "status": "completed"
    },
    "tags": []
   },
   "source": [
    "Now that we have trained our algorithm, it's time to test the model by making some predictions.\n",
    "\n",
    "For this we will use our test-set data"
   ]
  },
  {
   "cell_type": "code",
   "execution_count": 8,
   "id": "08534f6a",
   "metadata": {
    "execution": {
     "iopub.execute_input": "2024-08-08T13:14:04.675686Z",
     "iopub.status.busy": "2024-08-08T13:14:04.674909Z",
     "iopub.status.idle": "2024-08-08T13:14:04.680967Z",
     "shell.execute_reply": "2024-08-08T13:14:04.679963Z"
    },
    "papermill": {
     "duration": 0.017408,
     "end_time": "2024-08-08T13:14:04.683638",
     "exception": false,
     "start_time": "2024-08-08T13:14:04.666230",
     "status": "completed"
    },
    "tags": []
   },
   "outputs": [
    {
     "name": "stdout",
     "output_type": "stream",
     "text": [
      "[[1.5]\n",
      " [3.2]\n",
      " [7.4]\n",
      " [2.5]\n",
      " [5.9]]\n"
     ]
    }
   ],
   "source": [
    "# Testing data\n",
    "print(X_test)\n",
    "# Model Prediction \n",
    "y_pred = regressor.predict(X_test)"
   ]
  },
  {
   "cell_type": "markdown",
   "id": "eba712a2",
   "metadata": {
    "papermill": {
     "duration": 0.00712,
     "end_time": "2024-08-08T13:14:04.698359",
     "exception": false,
     "start_time": "2024-08-08T13:14:04.691239",
     "status": "completed"
    },
    "tags": []
   },
   "source": [
    "# Step 7 - Comparing Actual result to the Predicted Model result"
   ]
  },
  {
   "cell_type": "code",
   "execution_count": 9,
   "id": "58d0bdd7",
   "metadata": {
    "execution": {
     "iopub.execute_input": "2024-08-08T13:14:04.714762Z",
     "iopub.status.busy": "2024-08-08T13:14:04.714369Z",
     "iopub.status.idle": "2024-08-08T13:14:04.725466Z",
     "shell.execute_reply": "2024-08-08T13:14:04.724355Z"
    },
    "papermill": {
     "duration": 0.021859,
     "end_time": "2024-08-08T13:14:04.727743",
     "exception": false,
     "start_time": "2024-08-08T13:14:04.705884",
     "status": "completed"
    },
    "tags": []
   },
   "outputs": [
    {
     "data": {
      "text/html": [
       "<div>\n",
       "<style scoped>\n",
       "    .dataframe tbody tr th:only-of-type {\n",
       "        vertical-align: middle;\n",
       "    }\n",
       "\n",
       "    .dataframe tbody tr th {\n",
       "        vertical-align: top;\n",
       "    }\n",
       "\n",
       "    .dataframe thead th {\n",
       "        text-align: right;\n",
       "    }\n",
       "</style>\n",
       "<table border=\"1\" class=\"dataframe\">\n",
       "  <thead>\n",
       "    <tr style=\"text-align: right;\">\n",
       "      <th></th>\n",
       "      <th>Actual</th>\n",
       "      <th>Predicted</th>\n",
       "    </tr>\n",
       "  </thead>\n",
       "  <tbody>\n",
       "    <tr>\n",
       "      <th>0</th>\n",
       "      <td>20</td>\n",
       "      <td>16.884145</td>\n",
       "    </tr>\n",
       "    <tr>\n",
       "      <th>1</th>\n",
       "      <td>27</td>\n",
       "      <td>33.732261</td>\n",
       "    </tr>\n",
       "    <tr>\n",
       "      <th>2</th>\n",
       "      <td>69</td>\n",
       "      <td>75.357018</td>\n",
       "    </tr>\n",
       "    <tr>\n",
       "      <th>3</th>\n",
       "      <td>30</td>\n",
       "      <td>26.794801</td>\n",
       "    </tr>\n",
       "    <tr>\n",
       "      <th>4</th>\n",
       "      <td>62</td>\n",
       "      <td>60.491033</td>\n",
       "    </tr>\n",
       "  </tbody>\n",
       "</table>\n",
       "</div>"
      ],
      "text/plain": [
       "   Actual  Predicted\n",
       "0      20  16.884145\n",
       "1      27  33.732261\n",
       "2      69  75.357018\n",
       "3      30  26.794801\n",
       "4      62  60.491033"
      ]
     },
     "execution_count": 9,
     "metadata": {},
     "output_type": "execute_result"
    }
   ],
   "source": [
    "# Comparing Actual vs Predicted\n",
    "df = pd.DataFrame({'Actual': y_test, 'Predicted': y_pred}) \n",
    "df "
   ]
  },
  {
   "cell_type": "code",
   "execution_count": 10,
   "id": "19115742",
   "metadata": {
    "execution": {
     "iopub.execute_input": "2024-08-08T13:14:04.744471Z",
     "iopub.status.busy": "2024-08-08T13:14:04.744102Z",
     "iopub.status.idle": "2024-08-08T13:14:04.751623Z",
     "shell.execute_reply": "2024-08-08T13:14:04.750527Z"
    },
    "papermill": {
     "duration": 0.018625,
     "end_time": "2024-08-08T13:14:04.753863",
     "exception": false,
     "start_time": "2024-08-08T13:14:04.735238",
     "status": "completed"
    },
    "tags": []
   },
   "outputs": [
    {
     "name": "stdout",
     "output_type": "stream",
     "text": [
      "Training Score: 0.9515510725211552\n",
      "Test Score: 0.9454906892105354\n"
     ]
    }
   ],
   "source": [
    "#Estimating training and test score\n",
    "print(\"Training Score:\",regressor.score(X_train,y_train))\n",
    "print(\"Test Score:\",regressor.score(X_test,y_test))"
   ]
  },
  {
   "cell_type": "code",
   "execution_count": 11,
   "id": "5827c0ad",
   "metadata": {
    "execution": {
     "iopub.execute_input": "2024-08-08T13:14:04.770713Z",
     "iopub.status.busy": "2024-08-08T13:14:04.770333Z",
     "iopub.status.idle": "2024-08-08T13:14:05.003527Z",
     "shell.execute_reply": "2024-08-08T13:14:05.002446Z"
    },
    "papermill": {
     "duration": 0.244567,
     "end_time": "2024-08-08T13:14:05.006035",
     "exception": false,
     "start_time": "2024-08-08T13:14:04.761468",
     "status": "completed"
    },
    "tags": []
   },
   "outputs": [
    {
     "data": {
      "image/png": "[encoded data removed]",
      "text/plain": [
       "<Figure size 500x500 with 1 Axes>"
      ]
     },
     "metadata": {},
     "output_type": "display_data"
    }
   ],
   "source": [
    "# Plotting the Bar graph to depict the difference between the actual and predicted value\n",
    "\n",
    "df.plot(kind='bar', figsize=(5, 5), color=['violet', 'blue'])\n",
    "plt.grid(which='major', linewidth='0.5', color='red')\n",
    "plt.grid(which='minor', linewidth='0.5', color='blue')\n",
    "plt.show()"
   ]
  },
  {
   "cell_type": "code",
   "execution_count": 12,
   "id": "940b8733",
   "metadata": {
    "execution": {
     "iopub.execute_input": "2024-08-08T13:14:05.024312Z",
     "iopub.status.busy": "2024-08-08T13:14:05.023889Z",
     "iopub.status.idle": "2024-08-08T13:14:05.030872Z",
     "shell.execute_reply": "2024-08-08T13:14:05.029786Z"
    },
    "papermill": {
     "duration": 0.018823,
     "end_time": "2024-08-08T13:14:05.033123",
     "exception": false,
     "start_time": "2024-08-08T13:14:05.014300",
     "status": "completed"
    },
    "tags": []
   },
   "outputs": [
    {
     "name": "stdout",
     "output_type": "stream",
     "text": [
      "No of Hours = 9.25\n",
      "Predicted Score = 93.69173248737539\n"
     ]
    }
   ],
   "source": [
    "# Testing the model with our own data\n",
    "hours = 9.25\n",
    "test = np.array([hours])\n",
    "test = test.reshape(-1, 1)\n",
    "own_pred = regressor.predict(test)\n",
    "print(\"No of Hours = {}\".format(hours))\n",
    "print(\"Predicted Score = {}\".format(own_pred[0]))"
   ]
  },
  {
   "cell_type": "markdown",
   "id": "36e4b971",
   "metadata": {
    "papermill": {
     "duration": 0.008212,
     "end_time": "2024-08-08T13:14:05.050148",
     "exception": false,
     "start_time": "2024-08-08T13:14:05.041936",
     "status": "completed"
    },
    "tags": []
   },
   "source": [
    "# Step 8 - Evaluating the model"
   ]
  },
  {
   "cell_type": "markdown",
   "id": "280e8650",
   "metadata": {
    "papermill": {
     "duration": 0.007809,
     "end_time": "2024-08-08T13:14:05.066288",
     "exception": false,
     "start_time": "2024-08-08T13:14:05.058479",
     "status": "completed"
    },
    "tags": []
   },
   "source": [
    "The final step is to evaluate the performance of algorithm. This step is particularly important to compare how well different algorithms perform on a particular dataset. Here different errors have been calculated to compare the model performance and predict the accuracy."
   ]
  },
  {
   "cell_type": "code",
   "execution_count": 13,
   "id": "6a05eda2",
   "metadata": {
    "execution": {
     "iopub.execute_input": "2024-08-08T13:14:05.084246Z",
     "iopub.status.busy": "2024-08-08T13:14:05.083829Z",
     "iopub.status.idle": "2024-08-08T13:14:05.092994Z",
     "shell.execute_reply": "2024-08-08T13:14:05.091913Z"
    },
    "papermill": {
     "duration": 0.020751,
     "end_time": "2024-08-08T13:14:05.095312",
     "exception": false,
     "start_time": "2024-08-08T13:14:05.074561",
     "status": "completed"
    },
    "tags": []
   },
   "outputs": [
    {
     "name": "stdout",
     "output_type": "stream",
     "text": [
      "Mean Absolute Error: 4.183859899002982\n",
      "Mean Squared Error: 21.598769307217456\n",
      "Root Mean Squared Error: 4.647447612100373\n",
      "R-2: 0.9454906892105354\n"
     ]
    }
   ],
   "source": [
    "from sklearn import metrics  \n",
    "print('Mean Absolute Error:',metrics.mean_absolute_error(y_test, y_pred)) \n",
    "print('Mean Squared Error:', metrics.mean_squared_error(y_test, y_pred))\n",
    "print('Root Mean Squared Error:', np.sqrt(metrics.mean_squared_error(y_test, y_pred)))\n",
    "print('R-2:', metrics.r2_score(y_test, y_pred))"
   ]
  },
  {
   "cell_type": "markdown",
   "id": "0c9d38d8",
   "metadata": {
    "papermill": {
     "duration": 0.008032,
     "end_time": "2024-08-08T13:14:05.111454",
     "exception": false,
     "start_time": "2024-08-08T13:14:05.103422",
     "status": "completed"
    },
    "tags": []
   },
   "source": [
    "# Conclusion\n",
    "\n",
    "*I was successfully able to carry-out Prediction using Supervised ML task and was able to evaluate the model's performance on various parameters.*\n",
    "\n",
    "\n",
    "# Thank You"
   ]
  }
 ],
 "metadata": {
  "kaggle": {
   "accelerator": "none",
   "dataSources": [
    {
     "datasetId": 5512077,
     "sourceId": 9129621,
     "sourceType": "datasetVersion"
    }
   ],
   "dockerImageVersionId": 30746,
   "isGpuEnabled": false,
   "isInternetEnabled": true,
   "language": "python",
   "sourceType": "notebook"
  },
  "kernelspec": {
   "display_name": "Python 3",
   "language": "python",
   "name": "python3"
  },
  "language_info": {
   "codemirror_mode": {
    "name": "ipython",
    "version": 3
   },
   "file_extension": ".py",
   "mimetype": "text/x-python",
   "name": "python",
   "nbconvert_exporter": "python",
   "pygments_lexer": "ipython3",
   "version": "3.10.13"
  },
  "papermill": {
   "default_parameters": {},
   "duration": 6.957232,
   "end_time": "2024-08-08T13:14:05.740661",
   "environment_variables": {},
   "exception": null,
   "input_path": "__notebook__.ipynb",
   "output_path": "__notebook__.ipynb",
   "parameters": {},
   "start_time": "2024-08-08T13:13:58.783429",
   "version": "2.5.0"
  }
 },
 "nbformat": 4,
 "nbformat_minor": 5
}
